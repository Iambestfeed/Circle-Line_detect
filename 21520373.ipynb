{
 "cells": [
  {
   "cell_type": "markdown",
   "id": "46233977",
   "metadata": {},
   "source": [
    "# Hough Circle Transform"
   ]
  },
  {
   "cell_type": "markdown",
   "id": "7d274b91",
   "metadata": {},
   "source": [
    "### Một số thư viện được sử dụng\n",
    "1. OpenCV \n",
    "2. Numpy - Xử lý ma trận\n",
    "3. Math - Các hàm toán học: sin, cos, deg2rad\n",
    "4. Matplotlib.pyplot - biểu diễn ảnh nhanh\n",
    "5. Collections.defaultdict - gọi 1 dict đặc trưng. Cụ thể là các item được gán 1 giá trị cụ thể khi được gọi ngay cả khi chưa được thêm vào trước đó. "
   ]
  },
  {
   "cell_type": "code",
   "execution_count": 2,
   "id": "cf4486a6",
   "metadata": {},
   "outputs": [],
   "source": [
    "import cv2\n",
    "import numpy as np\n",
    "import math\n",
    "import matplotlib.pyplot as plt\n",
    "from collections import defaultdict"
   ]
  },
  {
   "cell_type": "markdown",
   "id": "0f9be9a2",
   "metadata": {},
   "source": [
    "### Các giá trị được gọi tới cùng hàm gồm:\n",
    "1. image: Ma trận biểu diễn của ảnh đầu vào\n",
    "2. edge_image: ảnh đã được hiệu chỉnh bằng thư viện cv2.Candy để trích xuất đặc trưng các cạnh nổi bật\n",
    "3. r_min, r_max: Cận trên và cận dưới đối với bán kính của các hình tròn có thể detect\n",
    "4. delta_r, num_thetas: số lượng r và theta được tính\n",
    "5. bin_threshold: ngưỡng chọn với mỗi tọa độ trên tọa độ cực \n",
    "6. post_process: biến đánh dấu việc có thực hiện so sánh giữa các hình tròn gần như nhằm lọc bớt sự nhiễu"
   ]
  },
  {
   "cell_type": "code",
   "execution_count": 3,
   "id": "2b4cbf73",
   "metadata": {},
   "outputs": [],
   "source": [
    "def find_hough_circles(image, edge_image, r_min, r_max, delta_r, num_thetas, bin_threshold, post_process = True):\n",
    "    img_height, img_width = edge_image.shape[:2]\n",
    "    \n",
    "    dtheta = int(360 / num_thetas)\n",
    "    \n",
    "    thetas = np.arange(0, 360, step = dtheta)\n",
    "    \n",
    "    # tập các độ dài bán kinh được xét\n",
    "    rs = np.arange(r_min, r_max, step = delta_r)\n",
    "    \n",
    "    cos_thetas = np.cos(np.deg2rad(thetas))\n",
    "    sin_thetas = np.sin(np.deg2rad(thetas))\n",
    "    \n",
    "    # x = x_center + r * cos(t) và y = y_center + r * sin(t),  \n",
    "    # tọa độ (x_center,y_center) là tâm đường tròn bán kính r. t trong khoảng [0,2PI)\n",
    "    # tính toán các giá trị r * cos(t) và r * sin(t) trước \n",
    "    circle_candidates = []\n",
    "    for r in rs:\n",
    "        for t in range(num_thetas):\n",
    "            circle_candidates.append((r, int(r * cos_thetas[t]), int(r * sin_thetas[t])))\n",
    "    \n",
    "    accumulator = defaultdict(int)\n",
    "    \n",
    "    for y in range(img_height):\n",
    "        for x in range(img_width):\n",
    "            if edge_image[y][x] != 0: #không có ảnh \n",
    "                # Tính toán các hình tròn có thể đi qua điểm và biểu diễn trong không gian tọa độ cực với r và t(theta)\n",
    "                for r, rcos_t, rsin_t in circle_candidates:\n",
    "                    x_center = x - rcos_t\n",
    "                    y_center = y - rsin_t\n",
    "                    accumulator[(x_center, y_center, r)] += 1 #thêm 1 hình tròn đi qua điểm ở tọa độ cực \n",
    "    \n",
    "    output_img = image.copy()\n",
    "    \n",
    "    out_circles = []\n",
    "    \n",
    "    # Sắp xếp các hình tròn đã được xác định theo chiều giảm dần số điểm đi qua\n",
    "    for candidate_circle, votes in sorted(accumulator.items(), key=lambda i: -i[1]):\n",
    "        x, y, r = candidate_circle\n",
    "        current_vote_percentage = votes / num_thetas\n",
    "        if current_vote_percentage >= bin_threshold: \n",
    "            # giảm thiểu số đường tròn không đạt ngưỡng(khi mà số điểm đi qua ít hơn với ngưỡng đã đặt)\n",
    "            out_circles.append((x, y, r, current_vote_percentage))\n",
    "            \n",
    "    # lọc các hình tròn gần nhau để tránh sự trùng lặp với cùng 1 đối tượng\n",
    "    if post_process :\n",
    "        pixel_threshold = 5\n",
    "        postprocess_circles = []\n",
    "        for x, y, r, v in out_circles:\n",
    "            # Loại các vòng quá gần nhau\n",
    "            # all((x - xc) ** 2 + (y - yc) ** 2 > rc ** 2 for xc, yc, rc, v in postprocess_circles)\n",
    "            # loại bỏ các cặp mà hình tròn sau gần với hình tròn trước(khoảng cách 2 hình < 5) \n",
    "            if all(abs(x - xc) > pixel_threshold or abs(y - yc) > pixel_threshold or abs(r - rc) > pixel_threshold for xc, yc, rc, v in postprocess_circles):\n",
    "                postprocess_circles.append((x, y, r, v))\n",
    "        out_circles = postprocess_circles\n",
    "        \n",
    "    # Vẽ các hình tròn định dạng vào hình mới\n",
    "    for x, y, r, v in out_circles:\n",
    "        output_img = cv2.circle(output_img, (x,y), r, (0,255,0), 2)\n",
    "        \n",
    "    return output_img, out_circles"
   ]
  },
  {
   "cell_type": "code",
   "execution_count": 4,
   "id": "3afb13e0",
   "metadata": {},
   "outputs": [],
   "source": [
    "# Thêm đường dẫn đến ảnh bạn muốn xử lý và cài đặt các chỉ số bạn muốn \n",
    "img_path = \"D:\\Python\\Detect_circle\\\\test1.png\" \n",
    "r_min = 10\n",
    "r_max = 200\n",
    "delta_r = 1\n",
    "num_thetas = 180\n",
    "bin_threshold = 0.4\n",
    "min_edge_threshold = 100\n",
    "max_edge_threshold = 200\n",
    "input_img = cv2.imread(img_path)\n",
    "    \n",
    "\n",
    "edge_image = cv2.cvtColor(input_img, cv2.COLOR_BGR2GRAY)\n",
    "cv2.imwrite(\"gray1.png\", edge_image)\n",
    "#Lọc lấy các cạnh đặc trưng trong hình\n",
    "edge_image = cv2.Canny(edge_image, min_edge_threshold, max_edge_threshold)\n",
    "cv2.imwrite(\"edge_image1.png\", edge_image)\n",
    "    \n",
    "if edge_image is not None:\n",
    "        \n",
    "    circle_img, circles = find_hough_circles(input_img, edge_image, r_min, r_max, delta_r, num_thetas, bin_threshold)\n",
    "        \n",
    "    if circle_img is not None:\n",
    "        cv2.imwrite(\"circles_img1.png\", circle_img)\n",
    "            "
   ]
  },
  {
   "cell_type": "markdown",
   "id": "a76924b3",
   "metadata": {},
   "source": [
    "### Một số thắc mắc:\n",
    "1. Có hướng giải quyết triệt để cho bài toán khử nhiễu cho các ảnh đặt chồng các vật không?\n",
    "2. Việc chuyển ảnh về hệ gray phát sinh 1 số vấn đề dẫn đến không tạo được sự phân biệt tại 1 số điểm? Liệu có cách nào cải tiến cho vấn đề này không?\n",
    "3. Các ảnh quá lớn thường dẫn đến thời gian chạy của chương trình khá lâu. Việc sử dụng ma trận pooling để giảm kích thước dữ liệu trong mạng ConvNet có thể giảm kích thước của ảnh nhưng có làm mất đi sự phân biệt giữa vật thể với nền của ảnh không?\n",
    "4. Việc chọn r_min và r_max ảnh hưởng khá lớn đến tốc độ chạy của chương trình và gây ra khá nhiều vấn đề xoay quanh việc ảnh bị nhiễu. Ngay cả với thuật toán được cài trong OpenCV thì vẫn phụ thuộc vào việc người dùng chọn thông số mindist, vậy có cách nào giải quyết triệt để vấn đề này không?"
   ]
  },
  {
   "cell_type": "code",
   "execution_count": null,
   "id": "a2c8278d",
   "metadata": {},
   "outputs": [],
   "source": []
  }
 ],
 "metadata": {
  "kernelspec": {
   "display_name": "Python 3 (ipykernel)",
   "language": "python",
   "name": "python3"
  },
  "language_info": {
   "codemirror_mode": {
    "name": "ipython",
    "version": 3
   },
   "file_extension": ".py",
   "mimetype": "text/x-python",
   "name": "python",
   "nbconvert_exporter": "python",
   "pygments_lexer": "ipython3",
   "version": "3.9.7"
  }
 },
 "nbformat": 4,
 "nbformat_minor": 5
}
